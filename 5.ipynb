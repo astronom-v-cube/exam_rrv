{
 "cells": [
  {
   "cell_type": "markdown",
   "metadata": {},
   "source": [
    "## Задача №5"
   ]
  },
  {
   "cell_type": "markdown",
   "metadata": {},
   "source": [
    "Импорт модулей"
   ]
  },
  {
   "cell_type": "code",
   "execution_count": 1,
   "metadata": {},
   "outputs": [],
   "source": [
    "import numpy as np\n",
    "from numpy import pi\n",
    "import datetime as dt\n",
    "import matplotlib.pyplot as plt"
   ]
  },
  {
   "cell_type": "markdown",
   "metadata": {},
   "source": [
    "Чтение файлов"
   ]
  },
  {
   "cell_type": "code",
   "execution_count": 2,
   "metadata": {},
   "outputs": [],
   "source": [
    "NRLMSIS_day = np.loadtxt('NRLMSIS_day.txt', skiprows=1)\n",
    "NRLMSIS_night = np.loadtxt('NRLMSIS_night.txt', skiprows=1)\n",
    "# IRI_day = np.loadtxt('IRI2016_day.txt', skiprows=35, usecols=1)\n",
    "# IRI_night = np.loadtxt('IRI2016_night.txt', skiprows=35, usecols=1)\n",
    "IRI_day = np.loadtxt('IRI2016_day.txt', skiprows=35)\n",
    "IRI_night = np.loadtxt('IRI2016_night.txt', skiprows=35)"
   ]
  },
  {
   "cell_type": "markdown",
   "metadata": {},
   "source": [
    "Создание массивов"
   ]
  },
  {
   "cell_type": "code",
   "execution_count": 3,
   "metadata": {},
   "outputs": [],
   "source": [
    "N_e_day = [item[1] for item in IRI_day]\n",
    "N_e_night = [item[1] for item in IRI_night]"
   ]
  },
  {
   "cell_type": "markdown",
   "metadata": {},
   "source": [
    "Блок с константами"
   ]
  },
  {
   "cell_type": "code",
   "execution_count": 4,
   "metadata": {},
   "outputs": [],
   "source": [
    "date = dt.datetime(int(NRLMSIS_day[0][0]), int(NRLMSIS_day[0][1]), int(NRLMSIS_day[0][2]), int(NRLMSIS_day[0][4]))\n",
    "\n",
    "e_charge = -1.6 * 10 ** (-19)\n",
    "mass_e = 9.1 * 10 ** (-31)"
   ]
  },
  {
   "cell_type": "markdown",
   "metadata": {},
   "source": [
    "Блок с формулами для расчетов"
   ]
  },
  {
   "cell_type": "code",
   "execution_count": 5,
   "metadata": {},
   "outputs": [
    {
     "ename": "TypeError",
     "evalue": "can't multiply sequence by non-int of type 'float'",
     "output_type": "error",
     "traceback": [
      "\u001b[0;31m---------------------------------------------------------------------------\u001b[0m",
      "\u001b[0;31mTypeError\u001b[0m                                 Traceback (most recent call last)",
      "\u001b[1;32m/home/dmitry/Documents/exam_rrv/5.ipynb Ячейка 11\u001b[0m line \u001b[0;36m1\n\u001b[0;32m----> <a href='vscode-notebook-cell:/home/dmitry/Documents/exam_rrv/5.ipynb#W4sZmlsZQ%3D%3D?line=0'>1</a>\u001b[0m omega_plasm_day \u001b[39m=\u001b[39m \u001b[39m4\u001b[39;49m \u001b[39m*\u001b[39;49m pi \u001b[39m*\u001b[39;49m (e_charge \u001b[39m*\u001b[39;49m\u001b[39m*\u001b[39;49m \u001b[39m2\u001b[39;49m) \u001b[39m*\u001b[39;49m N_e_day \u001b[39m/\u001b[39m mass_e\n\u001b[1;32m      <a href='vscode-notebook-cell:/home/dmitry/Documents/exam_rrv/5.ipynb#W4sZmlsZQ%3D%3D?line=1'>2</a>\u001b[0m n \u001b[39m=\u001b[39m np\u001b[39m.\u001b[39msqrt(\u001b[39m1\u001b[39m \u001b[39m-\u001b[39m ((omega_plasm \u001b[39m*\u001b[39m\u001b[39m*\u001b[39m \u001b[39m2\u001b[39m)\u001b[39m/\u001b[39m(omega \u001b[39m*\u001b[39m\u001b[39m*\u001b[39m \u001b[39m2\u001b[39m)))\n",
      "\u001b[0;31mTypeError\u001b[0m: can't multiply sequence by non-int of type 'float'"
     ]
    }
   ],
   "source": [
    "omega_plasm_day = 4 * pi * (e_charge ** 2) * N_e_day / mass_e\n",
    "n = np.sqrt(1 - ((omega_plasm ** 2)/(omega ** 2)))\n"
   ]
  },
  {
   "cell_type": "code",
   "execution_count": null,
   "metadata": {},
   "outputs": [],
   "source": []
  },
  {
   "cell_type": "code",
   "execution_count": null,
   "metadata": {},
   "outputs": [],
   "source": []
  }
 ],
 "metadata": {
  "kernelspec": {
   "display_name": "Python 3",
   "language": "python",
   "name": "python3"
  },
  "language_info": {
   "codemirror_mode": {
    "name": "ipython",
    "version": 3
   },
   "file_extension": ".py",
   "mimetype": "text/x-python",
   "name": "python",
   "nbconvert_exporter": "python",
   "pygments_lexer": "ipython3",
   "version": "3.11.6"
  }
 },
 "nbformat": 4,
 "nbformat_minor": 2
}
