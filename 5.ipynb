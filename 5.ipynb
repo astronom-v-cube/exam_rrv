{
  "cells": [
    {
      "cell_type": "markdown",
      "source": [
        "# Задачи 5-6"
      ],
      "metadata": {
        "id": "2S3RrshcJ0vo"
      }
    },
    {
      "cell_type": "markdown",
      "metadata": {
        "id": "56kDtP-mHRlV"
      },
      "source": [
        "Импорт модулей"
      ]
    },
    {
      "cell_type": "code",
      "execution_count": null,
      "metadata": {
        "id": "hKsYM_xZHRlW"
      },
      "outputs": [],
      "source": [
        "import os\n",
        "import numpy as np\n",
        "from numpy import pi, sin, cos, sqrt\n",
        "import datetime as dt\n",
        "import matplotlib.pyplot as plt\n",
        "\n",
        "from scipy.misc import derivative\n",
        "from scipy.interpolate import interp1d\n",
        "from scipy import integrate\n",
        "\n",
        "try:\n",
        "  import google.colab\n",
        "  IN_COLAB = True\n",
        "except:\n",
        "  IN_COLAB = False"
      ]
    },
    {
      "cell_type": "code",
      "source": [
        "from google.colab import drive\n",
        "drive.mount('/content/drive')"
      ],
      "metadata": {
        "colab": {
          "base_uri": "https://localhost:8080/"
        },
        "id": "vW-V2-39CEQm",
        "outputId": "a49c743c-62af-4663-e089-3f0e93f2eca0"
      },
      "execution_count": null,
      "outputs": [
        {
          "output_type": "stream",
          "name": "stdout",
          "text": [
            "Mounted at /content/drive\n"
          ]
        }
      ]
    },
    {
      "cell_type": "markdown",
      "metadata": {
        "id": "GJhrkRzQHRlX"
      },
      "source": [
        "Чтение файлов"
      ]
    },
    {
      "cell_type": "code",
      "source": [
        "if IN_COLAB:\n",
        "  NRLMSIS_day = np.loadtxt('/content/drive/MyDrive/exam_rrv/NRLMSIS_day.txt', skiprows=1)\n",
        "  NRLMSIS_night = np.loadtxt('/content/drive/MyDrive/exam_rrv/NRLMSIS_night.txt', skiprows=1)\n",
        "  IRI_day = np.loadtxt('/content/drive/MyDrive/exam_rrv/IRI2016_day.txt', skiprows=35)\n",
        "  IRI_night = np.loadtxt('/content/drive/MyDrive/exam_rrv/IRI2016_night.txt', skiprows=35)\n",
        "else:\n",
        "  NRLMSIS_day = np.loadtxt('NRLMSIS_day.txt', skiprows=1)\n",
        "  NRLMSIS_night = np.loadtxt('NRLMSIS_night.txt', skiprows=1)\n",
        "  IRI_day = np.loadtxt('IRI2016_day.txt', skiprows=35)\n",
        "  IRI_night = np.loadtxt('IRI2016_night.txt', skiprows=35)"
      ],
      "metadata": {
        "id": "zT8U9ziAJ9kv"
      },
      "execution_count": null,
      "outputs": []
    },
    {
      "cell_type": "markdown",
      "metadata": {
        "id": "GmtNuUqeHRlX"
      },
      "source": [
        "Создание массивов"
      ]
    },
    {
      "cell_type": "code",
      "execution_count": null,
      "metadata": {
        "id": "7uATuxSOHRlX"
      },
      "outputs": [],
      "source": [
        "N_e_day = np.array([item[1] for item in IRI_day], dtype=np.longdouble)\n",
        "N_e_night = np.array([item[1] for item in IRI_night], dtype=np.longdouble)\n",
        "z = np.array([item[0] for item in IRI_day], dtype=int) * 1000"
      ]
    },
    {
      "cell_type": "markdown",
      "source": [
        "Чистка данных"
      ],
      "metadata": {
        "id": "pOgdJIwOYmz-"
      }
    },
    {
      "cell_type": "code",
      "source": [
        "mask_day = N_e_day != -1\n",
        "mask_night = N_e_night != -1\n",
        "\n",
        "N_e_day = N_e_day[mask_day]\n",
        "N_e_night = N_e_night[mask_night]\n",
        "\n",
        "z_day = z[mask_day]\n",
        "z_night = z[mask_night]"
      ],
      "metadata": {
        "id": "SipwVb8qYqdX"
      },
      "execution_count": null,
      "outputs": []
    },
    {
      "cell_type": "markdown",
      "metadata": {
        "id": "wD5YhMuDHRlY"
      },
      "source": [
        "Блок с константами"
      ]
    },
    {
      "cell_type": "code",
      "execution_count": null,
      "metadata": {
        "id": "aLzNz_ihHRlY"
      },
      "outputs": [],
      "source": [
        "date = dt.datetime(int(NRLMSIS_day[0][0]), int(NRLMSIS_day[0][1]), int(NRLMSIS_day[0][2]), int(NRLMSIS_day[0][4]))\n",
        "\n",
        "e_charge = -1.6 * 1e-19\n",
        "mass_e = 9.1 * 1e-31\n",
        "omega = 2 * pi * (8 * 1e6)"
      ]
    },
    {
      "cell_type": "markdown",
      "metadata": {
        "id": "JYp0uOsrHRlY"
      },
      "source": [
        "Блок с формулами для расчетов"
      ]
    },
    {
      "cell_type": "code",
      "execution_count": null,
      "metadata": {
        "id": "-Ok6VI87HRlY"
      },
      "outputs": [],
      "source": [
        "omega_plasm_day = (4 * pi * (e_charge ** 2) * N_e_day / mass_e) * 1e6\n",
        "omega_plasm_night = (4 * pi * (e_charge ** 2) * N_e_night / mass_e) * 1e6\n",
        "n_day = sqrt(1 - ((omega_plasm_day ** 2)/(omega ** 2)))\n",
        "n_night = sqrt(1 - ((omega_plasm_night ** 2)/(omega ** 2)))"
      ]
    },
    {
      "cell_type": "markdown",
      "source": [
        "Начальные условия"
      ],
      "metadata": {
        "id": "vaWNzkHIPKT8"
      }
    },
    {
      "cell_type": "code",
      "source": [
        "teta_0 = np.ones(len(n_day))*pi/4\n",
        "phi_0 = np.ones(len(n_day))*pi/4"
      ],
      "metadata": {
        "id": "Hxl7VjXjPJoZ"
      },
      "execution_count": null,
      "outputs": []
    },
    {
      "cell_type": "markdown",
      "source": [
        "Интерполяция n"
      ],
      "metadata": {
        "id": "Z6Lf--17Sj3O"
      }
    },
    {
      "cell_type": "code",
      "source": [
        "interpol_n_day = interp1d(z_day, n_day, kind = 'cubic')\n",
        "interpol_n_night = interp1d(z_night, n_night, kind = 'cubic')"
      ],
      "metadata": {
        "id": "0V0Gz1GzSmwl"
      },
      "execution_count": null,
      "outputs": []
    },
    {
      "cell_type": "code",
      "source": [
        "z_ = np.linspace(z_night[0], z_night[-1], 4096)\n",
        "plt.plot(z_, interpol_n_night(z_))"
      ],
      "metadata": {
        "colab": {
          "base_uri": "https://localhost:8080/",
          "height": 481
        },
        "id": "SiiIRaJSUxMz",
        "outputId": "aa5a2405-4933-47bc-b8bc-78fa16e069f3"
      },
      "execution_count": null,
      "outputs": [
        {
          "output_type": "execute_result",
          "data": {
            "text/plain": [
              "[<matplotlib.lines.Line2D at 0x7b627abcc910>]"
            ]
          },
          "metadata": {},
          "execution_count": 14
        },
        {
          "output_type": "display_data",
          "data": {
            "text/plain": [
              "<Figure size 640x480 with 1 Axes>"
            ],
            "image/png": "[encoded data removed]"
          },
          "metadata": {}
        }
      ]
    },
    {
      "cell_type": "code",
      "source": [
        "p_x = lambda teta_0, phi_0: sin(teta_0) * cos(phi_0)\n",
        "p_y = lambda teta_0, phi_0: sin(teta_0) * sin(phi_0)\n",
        "# p_z = lambda z, n: derivative(lambda n: n**2, z, dx=1, n=1, order=3) * 1/2\n",
        "p_z = lambda p_x, p_y, n: sqrt(n**2 - (p_x**2 + p_y**2))"
      ],
      "metadata": {
        "id": "MIvE-YlVOpEn"
      },
      "execution_count": null,
      "outputs": []
    }
  ],
  "metadata": {
    "kernelspec": {
      "display_name": "Python 3",
      "language": "python",
      "name": "python3"
    },
    "language_info": {
      "codemirror_mode": {
        "name": "ipython",
        "version": 3
      },
      "file_extension": ".py",
      "mimetype": "text/x-python",
      "name": "python",
      "nbconvert_exporter": "python",
      "pygments_lexer": "ipython3",
      "version": "3.11.5"
    },
    "colab": {
      "provenance": []
    }
  },
  "nbformat": 4,
  "nbformat_minor": 0
}