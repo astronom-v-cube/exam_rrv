{
 "cells": [
  {
   "cell_type": "markdown",
   "metadata": {
    "id": "2S3RrshcJ0vo"
   },
   "source": [
    "# Задача 5"
   ]
  },
  {
   "cell_type": "markdown",
   "metadata": {
    "id": "56kDtP-mHRlV"
   },
   "source": [
    "Импорт модулей"
   ]
  },
  {
   "cell_type": "code",
   "execution_count": null,
   "metadata": {
    "executionInfo": {
     "elapsed": 362,
     "status": "ok",
     "timestamp": 1702585982812,
     "user": {
      "displayName": "Дмитрий Смирнов",
      "userId": "16561936699784084229"
     },
     "user_tz": -180
    },
    "id": "hKsYM_xZHRlW"
   },
   "outputs": [],
   "source": [
    "import numpy as np\n",
    "from numpy import pi, sin, cos, sqrt\n",
    "import math \n",
    "\n",
    "import datetime as dt\n",
    "import matplotlib\n",
    "import matplotlib.pyplot as plt\n",
    "import matplotlib.ticker as ticker\n",
    "matplotlib.rcParams.update({'font.size': 20})\n",
    "\n",
    "from scipy.misc import derivative\n",
    "from scipy.interpolate import interp1d\n",
    "from scipy.integrate import solve_ivp\n",
    "import numdifftools as nd\n",
    "\n",
    "from tqdm import tqdm\n",
    "import traceback\n",
    "import os\n",
    "\n",
    "try:\n",
    "  from google.colab import drive\n",
    "  drive.mount('/content/drive')\n",
    "  IN_COLAB = True\n",
    "except:\n",
    "  IN_COLAB = False"
   ]
  },
  {
   "cell_type": "markdown",
   "metadata": {
    "id": "GJhrkRzQHRlX"
   },
   "source": [
    "Чтение файлов"
   ]
  },
  {
   "cell_type": "code",
   "execution_count": null,
   "metadata": {
    "executionInfo": {
     "elapsed": 858,
     "status": "ok",
     "timestamp": 1702586005988,
     "user": {
      "displayName": "Дмитрий Смирнов",
      "userId": "16561936699784084229"
     },
     "user_tz": -180
    },
    "id": "zT8U9ziAJ9kv"
   },
   "outputs": [],
   "source": [
    "if IN_COLAB:\n",
    "  NRLMSIS_day = np.loadtxt('/content/drive/MyDrive/exam_rrv/NRLMSIS_day.txt', skiprows=1)\n",
    "  NRLMSIS_night = np.loadtxt('/content/drive/MyDrive/exam_rrv/NRLMSIS_night.txt', skiprows=1)\n",
    "  IRI_day = np.loadtxt('/content/drive/MyDrive/exam_rrv/IRI2016_day.txt', skiprows=35)\n",
    "  IRI_night = np.loadtxt('/content/drive/MyDrive/exam_rrv/IRI2016_night.txt', skiprows=35)\n",
    "else:\n",
    "  NRLMSIS_day = np.loadtxt('NRLMSIS_day.txt', skiprows=1)\n",
    "  NRLMSIS_night = np.loadtxt('NRLMSIS_night.txt', skiprows=1)\n",
    "  IRI_day = np.loadtxt('IRI2016_day.txt', skiprows=35)\n",
    "  IRI_night = np.loadtxt('IRI2016_night.txt', skiprows=35)"
   ]
  },
  {
   "cell_type": "markdown",
   "metadata": {
    "id": "GmtNuUqeHRlX"
   },
   "source": [
    "Создание массивов с данными из модели ионосферы"
   ]
  },
  {
   "cell_type": "code",
   "execution_count": null,
   "metadata": {
    "executionInfo": {
     "elapsed": 5,
     "status": "ok",
     "timestamp": 1702586005989,
     "user": {
      "displayName": "Дмитрий Смирнов",
      "userId": "16561936699784084229"
     },
     "user_tz": -180
    },
    "id": "7uATuxSOHRlX"
   },
   "outputs": [],
   "source": [
    "N_e_day = np.array([item[1] for item in IRI_day], dtype=np.longdouble)\n",
    "N_e_night = np.array([item[1] for item in IRI_night], dtype=np.longdouble)\n",
    "z = np.array([item[0] for item in IRI_day], dtype=int) * 1000"
   ]
  },
  {
   "cell_type": "markdown",
   "metadata": {
    "id": "pOgdJIwOYmz-"
   },
   "source": [
    "Чистка данных"
   ]
  },
  {
   "cell_type": "code",
   "execution_count": null,
   "metadata": {
    "executionInfo": {
     "elapsed": 626,
     "status": "ok",
     "timestamp": 1702586006612,
     "user": {
      "displayName": "Дмитрий Смирнов",
      "userId": "16561936699784084229"
     },
     "user_tz": -180
    },
    "id": "SipwVb8qYqdX"
   },
   "outputs": [],
   "source": [
    "mask_day = N_e_day != -1\n",
    "mask_night = N_e_night != -1\n",
    "\n",
    "N_e_day = N_e_day[mask_day]\n",
    "N_e_night = N_e_night[mask_night]\n",
    "\n",
    "z_day = z[mask_day]\n",
    "z_night = z[mask_night]"
   ]
  },
  {
   "cell_type": "markdown",
   "metadata": {
    "id": "wD5YhMuDHRlY"
   },
   "source": [
    "Блок с константами"
   ]
  },
  {
   "cell_type": "code",
   "execution_count": null,
   "metadata": {
    "executionInfo": {
     "elapsed": 24,
     "status": "ok",
     "timestamp": 1702586006613,
     "user": {
      "displayName": "Дмитрий Смирнов",
      "userId": "16561936699784084229"
     },
     "user_tz": -180
    },
    "id": "aLzNz_ihHRlY"
   },
   "outputs": [],
   "source": [
    "date = dt.datetime(int(NRLMSIS_day[0][0]), int(NRLMSIS_day[0][1]), int(NRLMSIS_day[0][2]), int(NRLMSIS_day[0][4]))\n",
    "\n",
    "e_charge = 4.8e-10\n",
    "mass_e = 9.1094e-28"
   ]
  },
  {
   "cell_type": "markdown",
   "metadata": {
    "id": "JYp0uOsrHRlY"
   },
   "source": [
    "Блок с формулами для расчетов и инициализацией переменных"
   ]
  },
  {
   "cell_type": "code",
   "execution_count": null,
   "metadata": {
    "executionInfo": {
     "elapsed": 23,
     "status": "ok",
     "timestamp": 1702586006614,
     "user": {
      "displayName": "Дмитрий Смирнов",
      "userId": "16561936699784084229"
     },
     "user_tz": -180
    },
    "id": "-Ok6VI87HRlY"
   },
   "outputs": [],
   "source": [
    "def init_var(freq, mode):\n",
    "        \n",
    "    # обозначение переменных в зависимости от времени суток\n",
    "    if mode == 'night':\n",
    "        z, N_e = z_night, N_e_night\n",
    "        layers = [15, 50, 130, 250, 450]\n",
    "    elif mode == 'day':\n",
    "        z, N_e = z_day, N_e_day\n",
    "        layers = [15, 50, 90, 130, 250, 450]\n",
    "    \n",
    "    # пересчет обычной частоты в циклическую\n",
    "    omega = 2 * pi * (freq * 1e6)\n",
    "    # считаем плазменную частоту в СГС\n",
    "    omega_plasm = sqrt((4 * pi * (e_charge ** 2) * N_e / mass_e))\n",
    "    # считаем квадрат показателя преломления\n",
    "    n_quad = 1 - ((omega_plasm**2)/(omega ** 2))\n",
    "    # берем корень, сохраняя комплексную часть\n",
    "    n = sqrt(n_quad + 0j)\n",
    "    # сразу создаем интерполяцию значений для показателя преломления\n",
    "    interpol_n = interp1d(z, n, kind = 'cubic')\n",
    "    # отдельная переменная для создания подложки\n",
    "    n_for_graph = np.pad(sqrt(abs(n_quad)), (1000 - len(n), 0), mode='constant', constant_values=1)\n",
    "\n",
    "    return omega, omega_plasm, n_quad, n, interpol_n, n_for_graph, z, N_e, layers, freq, mode"
   ]
  },
  {
   "cell_type": "code",
   "execution_count": null,
   "metadata": {
    "colab": {
     "base_uri": "https://localhost:8080/",
     "height": 481
    },
    "executionInfo": {
     "elapsed": 23,
     "status": "ok",
     "timestamp": 1702586006615,
     "user": {
      "displayName": "Дмитрий Смирнов",
      "userId": "16561936699784084229"
     },
     "user_tz": -180
    },
    "id": "SiiIRaJSUxMz",
    "outputId": "aa5a2405-4933-47bc-b8bc-78fa16e069f3"
   },
   "outputs": [],
   "source": [
    "def ploting_n_distibution(n, N_e, freq, mode):\n",
    "    fig, ax = plt.subplots(figsize=(22, 10))\n",
    "    ax.plot(z/1000, n.real, label='$Re(n)$', color='r', linewidth=5, zorder = 10)\n",
    "    if np.sum(n.imag) != 0: \n",
    "        ax.plot(z/1000, n.imag, label='$Im(n)$', color='g', linewidth=5, zorder = 10)\n",
    "    ax.set_ylabel('$n$')\n",
    "    ax.set_xlabel('$Z$, км')\n",
    "    ax.set_ylim(-0.005)\n",
    "    ax.grid(True, color='r')\n",
    "    ax.xaxis.set_major_locator(ticker.MultipleLocator(100))\n",
    "    ax.yaxis.set_major_locator(ticker.MultipleLocator(0.1))\n",
    "    plt.legend(loc = 'center left')\n",
    "        \n",
    "    ax2 = ax.twinx()\n",
    "    ax2.bar(z/1000, N_e, zorder = 5, color='cornflowerblue', label = 'Концентрация электронов', width = 0.45)\n",
    "    ax2.set_ylabel('$N_e, {см}^{-3}$')\n",
    "    ax2.yaxis.set_major_locator(ticker.MultipleLocator(15000))\n",
    "    ax2.grid(which='major', color = 'dimgrey', linestyle = ':', linewidth = 0.5)\n",
    "    plt.legend(loc = 'center right')\n",
    "    plt.tight_layout()\n",
    "    plt.savefig(f'n, {freq}, {mode}.png')"
   ]
  },
  {
   "cell_type": "markdown",
   "metadata": {},
   "source": [
    "Интегрирование"
   ]
  },
  {
   "cell_type": "code",
   "execution_count": null,
   "metadata": {
    "colab": {
     "base_uri": "https://localhost:8080/",
     "height": 406
    },
    "executionInfo": {
     "elapsed": 369,
     "status": "error",
     "timestamp": 1702586182196,
     "user": {
      "displayName": "Дмитрий Смирнов",
      "userId": "16561936699784084229"
     },
     "user_tz": -180
    },
    "id": "kO5CrIQO00mH",
    "outputId": "04b72274-674b-4f0d-f2db-cd9468621584"
   },
   "outputs": [],
   "source": [
    "def dp_zdt(z, n):\n",
    "    try:\n",
    "        # считаем прозводную\n",
    "        d = 0.5 * derivative(lambda z: n(z)**2, z, dx=1, n=1)\n",
    "    except:\n",
    "        # если не получилось, значит нет данных, потому что в слое мало электронов\n",
    "        # следовательно, n = 1 и производная равна 0\n",
    "        d = 0\n",
    "    return d\n",
    "\n",
    "# система ДУ\n",
    "def ode(t, p, n, p_x, p_y): \n",
    "    # распаковка\n",
    "    x, y, z, p_z = p\n",
    "    # если траектория ушла под землю, зануляем координаты\n",
    "    if z < 0: p_x, p_y, p_z = 0, 0, 0\n",
    "    return [p_x, p_y, p_z, dp_zdt(z, n)]\n",
    "\n",
    "def solve(n, z0, teta_0, phi_0, t):\n",
    "    p_x0 = sin(teta_0) * cos(phi_0)\n",
    "    p_y0 = sin(teta_0) * sin(phi_0)\n",
    "    p_z0 = cos(teta_0)\n",
    "    \n",
    "    #print(p_x0, p_y0, p_z0)\n",
    "    p0 = [0, 0, z0, p_z0]\n",
    "    sol = solve_ivp(ode, [t[0], t[-1]], p0, args=(n, p_x0, p_y0), dense_output=True, max_step = 1000)\n",
    "    return sol.sol(t)"
   ]
  },
  {
   "cell_type": "code",
   "execution_count": null,
   "metadata": {},
   "outputs": [],
   "source": [
    "def calculating(thetas, freq, interpol_n, n_for_graph, layers, mode, ax = None, colors = False, linestyle = '-', background = True, layers_mode = False):\n",
    "    \n",
    "    x_max_on_line = []\n",
    "    z_max_on_line = []\n",
    "\n",
    "    if ax == None:\n",
    "        fig = plt.figure(figsize=(22, 10))\n",
    "        ax = fig.gca()\n",
    "    else: \n",
    "        background == False\n",
    "    \n",
    "    colors_arr = plt.cm.viridis(thetas)[::-1]\n",
    "\n",
    "    for index, theta in enumerate(tqdm(thetas, ncols=100)):\n",
    "        t = np.linspace(0, 5000e3, 2**12) # читать как оптический путь\n",
    "        x, y, z, p_z = solve(interpol_n, 0, theta, 0, t)\n",
    "        x_max_on_line.append(int(x.max()/1e3))\n",
    "        z_max_on_line.append(int(z.max()/1e3))\n",
    "        if colors != False:\n",
    "            plt.plot(x/1e3, z/1e3, linewidth=0.8, c = colors_arr[index])\n",
    "        else:\n",
    "            plt.plot(x/1e3, z/1e3, linewidth=3, linestyle = linestyle, label = f'${math.ceil((thetas[index] * 180)/pi)}^\\circ$')\n",
    "            plt.legend(ncols=2, fontsize=12)\n",
    "\n",
    "    z_max, x_max = np.array(z_max_on_line).max(), np.array(x_max_on_line).max()\n",
    "\n",
    "    if background == True:\n",
    "        plt.imshow(np.tile(n_for_graph.reshape(-1, 1)[0:z_max + 15], x_max), origin='lower', cmap=plt.cm.Wistia.reversed(), aspect='auto', alpha=0.4)\n",
    "        plt.colorbar()\n",
    "        \n",
    "    if layers_mode == True:\n",
    "        for index, layer in enumerate(tqdm(layers, ncols=150)):\n",
    "            plt.plot((0, x_max), (layer, layer), c = 'k', linestyle = '--', linewidth = 0.5)\n",
    "            \n",
    "    ax.yaxis.set_major_locator(ticker.MultipleLocator(100))\n",
    "    ax.xaxis.set_major_locator(ticker.MultipleLocator(50))\n",
    "    plt.ylim(0, z_max + 15) if z_max < 285 else plt.ylim(0, 300)\n",
    "    plt.xlim(0, x_max) if x_max < 1000 else plt.xlim(0, 1000)\n",
    "    # mode = 'day + night' if ax != None else mode\n",
    "    plt.title(f'Beam for {freq} MHz, {mode}, {len(thetas)} angles.png')\n",
    "    plt.tight_layout()\n",
    "    plt.savefig(f'Beam for {freq} MHz, {mode}, {len(thetas)} angles.png')"
   ]
  },
  {
   "cell_type": "code",
   "execution_count": null,
   "metadata": {},
   "outputs": [],
   "source": [
    "import concurrent.futures\n",
    "from sys import platform\n",
    "\n",
    "def multi_calculating(thetas, freq, interpol_n, n_for_graph, layers, mode, ax = None, colors = False, linestyle = '-', background = True, layers_mode = False):\n",
    "    \n",
    "    x_max_on_line = []\n",
    "    z_max_on_line = []\n",
    "    \n",
    "    if ax == None:\n",
    "        fig = plt.figure(figsize=(22, 10))\n",
    "        ax = fig.gca()\n",
    "    else: \n",
    "        background == False\n",
    "    \n",
    "    t = np.linspace(0, 5000e3, 2**12) # читать как оптический путь\n",
    "    colors_arr = plt.cm.viridis(thetas)[::-1]\n",
    "    \n",
    "    if platform == \"win32\":\n",
    "        with concurrent.futures.ThreadPoolExecutor(max_workers=os.cpu_count()-1) as executor:\n",
    "            futures = {executor.submit(solve, interpol_n, 0, theta, 0, t): i for i, theta in enumerate(thetas)}\n",
    "            \n",
    "    elif platform == \"linux\":\n",
    "        with concurrent.futures.ProcessPoolExecutor(max_workers=os.cpu_count()-1) as executor:\n",
    "            futures = {executor.submit(solve, interpol_n, 0, theta, 0, t): i for i, theta in enumerate(thetas)}\n",
    "        \n",
    "    for future in concurrent.futures.as_completed(futures):\n",
    "        \n",
    "        index = futures[future]\n",
    "        \n",
    "        try:\n",
    "            x, y, z, p_z = future.result()\n",
    "            \n",
    "            x_max_on_line.append(int(x.max()/1e3))\n",
    "            z_max_on_line.append(int(z.max()/1e3))\n",
    "            \n",
    "            if colors != False:\n",
    "                plt.plot(x/1e3, z/1e3, linewidth=0.8, c = colors_arr[index])\n",
    "            else:\n",
    "                plt.plot(x/1e3, z/1e3, linewidth=3, linestyle = linestyle, label = f'${math.ceil((thetas[index] * 180)/pi)}^\\circ$')\n",
    "                plt.legend(ncols=2, fontsize=12)\n",
    "                        \n",
    "        except Exception:\n",
    "            print(traceback.format_exc())\n",
    "\n",
    "    z_max, x_max = np.array(z_max_on_line).max(), np.array(x_max_on_line).max()\n",
    "    \n",
    "    if background == True:\n",
    "        plt.imshow(np.tile(n_for_graph.reshape(-1, 1)[0:z_max + 15], x_max), origin='lower', cmap=plt.cm.Wistia.reversed(), aspect='auto', alpha=0.4)\n",
    "        plt.colorbar()\n",
    "        \n",
    "    if layers_mode == True:\n",
    "        for index, layer in enumerate(tqdm(layers, ncols=150)):\n",
    "            plt.plot((0, x_max), (layer, layer), c = 'k', linestyle = '--', linewidth = 0.5)\n",
    "            \n",
    "    ax.yaxis.set_major_locator(ticker.MultipleLocator(100))\n",
    "    ax.xaxis.set_major_locator(ticker.MultipleLocator(50))\n",
    "    plt.ylim(0, z_max + 15) if z_max < 285 else plt.ylim(0, 300)\n",
    "    plt.xlim(0, x_max) if x_max < 1000 else plt.xlim(0, 1000)\n",
    "    # mode = 'day + night' if ax != None else mode\n",
    "    plt.title(f'Beam for {freq} MHz, {mode}, {len(thetas)} angles.png')\n",
    "    plt.tight_layout()\n",
    "    plt.savefig(f'Beam for {freq} MHz, {mode}, {len(thetas)} angles.png')"
   ]
  },
  {
   "cell_type": "code",
   "execution_count": null,
   "metadata": {},
   "outputs": [],
   "source": [
    "omega, omega_plasm, n_quad, n, interpol_n, n_for_graph, z, N_e, layers, freq, mode = init_var(3, 'day')\n",
    "ploting_n_distibution(n, N_e, freq, mode)\n",
    "multi_calculating(np.linspace(0, pi/2, 10), freq, interpol_n, n_for_graph, layers, mode)"
   ]
  },
  {
   "cell_type": "code",
   "execution_count": null,
   "metadata": {},
   "outputs": [],
   "source": [
    "multi_calculating(np.linspace(0, pi/2, 1000), freq, interpol_n, n_for_graph, layers, mode, colors = True, background = False)"
   ]
  },
  {
   "cell_type": "code",
   "execution_count": null,
   "metadata": {},
   "outputs": [],
   "source": [
    "omega, omega_plasm, n_quad, n, interpol_n, n_for_graph, z, N_e, layers, freq, mode = init_var(8, 'day')\n",
    "ploting_n_distibution(n, N_e, freq, mode)\n",
    "multi_calculating(np.linspace(0, pi/2, 10), freq, interpol_n, n_for_graph, layers, mode)"
   ]
  },
  {
   "cell_type": "code",
   "execution_count": null,
   "metadata": {},
   "outputs": [],
   "source": [
    "multi_calculating(np.linspace(0, pi/2, 1000), freq, interpol_n, n_for_graph, layers, mode, colors = True, background = False)"
   ]
  },
  {
   "cell_type": "code",
   "execution_count": null,
   "metadata": {},
   "outputs": [],
   "source": [
    "omega, omega_plasm, n_quad, n, interpol_n, n_for_graph, z, N_e, layers, freq, mode = init_var(3, 'night')\n",
    "ploting_n_distibution(n, N_e, freq, mode)\n",
    "multi_calculating(np.linspace(0, pi/2, 10), freq, interpol_n, n_for_graph, layers, mode)"
   ]
  },
  {
   "cell_type": "code",
   "execution_count": null,
   "metadata": {},
   "outputs": [],
   "source": [
    "multi_calculating(np.linspace(0, pi/2, 1000), freq, interpol_n, n_for_graph, layers, mode, colors = True, background = False)"
   ]
  },
  {
   "cell_type": "code",
   "execution_count": null,
   "metadata": {},
   "outputs": [],
   "source": [
    "omega, omega_plasm, n_quad, n, interpol_n, n_for_graph, z, N_e, layers, freq, mode = init_var(8, 'night')\n",
    "ploting_n_distibution(n, N_e, freq, mode)\n",
    "multi_calculating(np.linspace(0, pi/2, 10), freq, interpol_n, n_for_graph, layers, mode)"
   ]
  },
  {
   "cell_type": "code",
   "execution_count": null,
   "metadata": {},
   "outputs": [],
   "source": [
    "multi_calculating(np.linspace(0, pi/2, 1000), freq, interpol_n, n_for_graph, layers, mode, colors = True, background = False)"
   ]
  },
  {
   "cell_type": "code",
   "execution_count": null,
   "metadata": {},
   "outputs": [],
   "source": [
    "fig = plt.figure(figsize=(20, 10))\n",
    "ax = fig.gca()\n",
    "\n",
    "omega, omega_plasm, n_quad, n, interpol_n, n_for_graph, z, N_e, layers, freq, mode = init_var(3, 'day')\n",
    "multi_calculating(np.linspace(0, pi/2, 10), freq, interpol_n, n_for_graph, layers, mode, ax, colors = False, background = True, layers_mode = False)\n",
    "omega, omega_plasm, n_quad, n, interpol_n, n_for_graph, z, N_e, layers, freq, mode = init_var(3, 'night')\n",
    "multi_calculating(np.linspace(0, pi/2, 10), freq, interpol_n, n_for_graph, layers, mode, ax, colors = False, linestyle = '--', background = True, layers_mode = False)"
   ]
  },
  {
   "cell_type": "code",
   "execution_count": null,
   "metadata": {},
   "outputs": [],
   "source": [
    "fig = plt.figure(figsize=(20, 10))\n",
    "ax = fig.gca()\n",
    "\n",
    "omega, omega_plasm, n_quad, n, interpol_n, n_for_graph, z, N_e, layers, freq, mode = init_var(8, 'day')\n",
    "multi_calculating(np.linspace(0, pi/2, 10), freq, interpol_n, n_for_graph, layers, mode, ax, colors = False, background = True, layers_mode = False)\n",
    "omega, omega_plasm, n_quad, n, interpol_n, n_for_graph, z, N_e, layers, freq, mode = init_var(8, 'night')\n",
    "multi_calculating(np.linspace(0, pi/2, 10), freq, interpol_n, n_for_graph, layers, mode, ax, colors = False, linestyle = '--', background = True, layers_mode = False)"
   ]
  }
 ],
 "metadata": {
  "colab": {
   "provenance": []
  },
  "kernelspec": {
   "display_name": "Python 3 (ipykernel)",
   "language": "python",
   "name": "python3"
  },
  "language_info": {
   "codemirror_mode": {
    "name": "ipython",
    "version": 3
   },
   "file_extension": ".py",
   "mimetype": "text/x-python",
   "name": "python",
   "nbconvert_exporter": "python",
   "pygments_lexer": "ipython3",
   "version": "3.11.5"
  }
 },
 "nbformat": 4,
 "nbformat_minor": 4
}
