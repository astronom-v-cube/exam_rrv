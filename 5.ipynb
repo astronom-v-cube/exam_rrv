{
 "cells": [
  {
   "cell_type": "markdown",
   "metadata": {
    "id": "2S3RrshcJ0vo"
   },
   "source": [
    "# Задачи 5-6"
   ]
  },
  {
   "cell_type": "markdown",
   "metadata": {
    "id": "56kDtP-mHRlV"
   },
   "source": [
    "Импорт модулей"
   ]
  },
  {
   "cell_type": "code",
   "execution_count": 1,
   "metadata": {
    "executionInfo": {
     "elapsed": 362,
     "status": "ok",
     "timestamp": 1702585982812,
     "user": {
      "displayName": "Дмитрий Смирнов",
      "userId": "16561936699784084229"
     },
     "user_tz": -180
    },
    "id": "hKsYM_xZHRlW"
   },
   "outputs": [],
   "source": [
    "import os\n",
    "import numpy as np\n",
    "from numpy import pi, sin, cos, sqrt\n",
    "import datetime as dt\n",
    "import matplotlib.pyplot as plt\n",
    "\n",
    "from scipy.misc import derivative\n",
    "from scipy.interpolate import interp1d\n",
    "from scipy import integrate\n",
    "\n",
    "try:\n",
    "  import google.colab\n",
    "  IN_COLAB = True\n",
    "except:\n",
    "  IN_COLAB = False"
   ]
  },
  {
   "cell_type": "code",
   "execution_count": 2,
   "metadata": {
    "colab": {
     "base_uri": "https://localhost:8080/"
    },
    "executionInfo": {
     "elapsed": 21987,
     "status": "ok",
     "timestamp": 1702586005144,
     "user": {
      "displayName": "Дмитрий Смирнов",
      "userId": "16561936699784084229"
     },
     "user_tz": -180
    },
    "id": "vW-V2-39CEQm",
    "outputId": "a49c743c-62af-4663-e089-3f0e93f2eca0"
   },
   "outputs": [],
   "source": [
    "if IN_COLAB:\n",
    "    from google.colab import drive\n",
    "    drive.mount('/content/drive')"
   ]
  },
  {
   "cell_type": "markdown",
   "metadata": {
    "id": "GJhrkRzQHRlX"
   },
   "source": [
    "Чтение файлов"
   ]
  },
  {
   "cell_type": "code",
   "execution_count": 3,
   "metadata": {
    "executionInfo": {
     "elapsed": 858,
     "status": "ok",
     "timestamp": 1702586005988,
     "user": {
      "displayName": "Дмитрий Смирнов",
      "userId": "16561936699784084229"
     },
     "user_tz": -180
    },
    "id": "zT8U9ziAJ9kv"
   },
   "outputs": [],
   "source": [
    "if IN_COLAB:\n",
    "  NRLMSIS_day = np.loadtxt('/content/drive/MyDrive/exam_rrv/NRLMSIS_day.txt', skiprows=1)\n",
    "  NRLMSIS_night = np.loadtxt('/content/drive/MyDrive/exam_rrv/NRLMSIS_night.txt', skiprows=1)\n",
    "  IRI_day = np.loadtxt('/content/drive/MyDrive/exam_rrv/IRI2016_day.txt', skiprows=35)\n",
    "  IRI_night = np.loadtxt('/content/drive/MyDrive/exam_rrv/IRI2016_night.txt', skiprows=35)\n",
    "else:\n",
    "  NRLMSIS_day = np.loadtxt('NRLMSIS_day.txt', skiprows=1)\n",
    "  NRLMSIS_night = np.loadtxt('NRLMSIS_night.txt', skiprows=1)\n",
    "  IRI_day = np.loadtxt('IRI2016_day.txt', skiprows=35)\n",
    "  IRI_night = np.loadtxt('IRI2016_night.txt', skiprows=35)"
   ]
  },
  {
   "cell_type": "markdown",
   "metadata": {
    "id": "GmtNuUqeHRlX"
   },
   "source": [
    "Создание массивов"
   ]
  },
  {
   "cell_type": "code",
   "execution_count": 4,
   "metadata": {
    "executionInfo": {
     "elapsed": 5,
     "status": "ok",
     "timestamp": 1702586005989,
     "user": {
      "displayName": "Дмитрий Смирнов",
      "userId": "16561936699784084229"
     },
     "user_tz": -180
    },
    "id": "7uATuxSOHRlX"
   },
   "outputs": [],
   "source": [
    "N_e_day = np.array([item[1] for item in IRI_day], dtype=np.longdouble)\n",
    "N_e_night = np.array([item[1] for item in IRI_night], dtype=np.longdouble)\n",
    "z = np.array([item[0] for item in IRI_day], dtype=int) * 1000"
   ]
  },
  {
   "cell_type": "markdown",
   "metadata": {
    "id": "pOgdJIwOYmz-"
   },
   "source": [
    "Чистка данных"
   ]
  },
  {
   "cell_type": "code",
   "execution_count": 5,
   "metadata": {
    "executionInfo": {
     "elapsed": 626,
     "status": "ok",
     "timestamp": 1702586006612,
     "user": {
      "displayName": "Дмитрий Смирнов",
      "userId": "16561936699784084229"
     },
     "user_tz": -180
    },
    "id": "SipwVb8qYqdX"
   },
   "outputs": [],
   "source": [
    "mask_day = N_e_day != -1\n",
    "mask_night = N_e_night != -1\n",
    "\n",
    "N_e_day = N_e_day[mask_day]\n",
    "N_e_night = N_e_night[mask_night]\n",
    "\n",
    "z_day = z[mask_day]\n",
    "z_night = z[mask_night]"
   ]
  },
  {
   "cell_type": "code",
   "execution_count": 6,
   "metadata": {},
   "outputs": [],
   "source": [
    "if 0:\n",
    "    z, N_e = z_night, N_e_night\n",
    "else:\n",
    "    z, N_e = z_day, N_e_day"
   ]
  },
  {
   "cell_type": "markdown",
   "metadata": {
    "id": "wD5YhMuDHRlY"
   },
   "source": [
    "Блок с константами"
   ]
  },
  {
   "cell_type": "code",
   "execution_count": 7,
   "metadata": {
    "executionInfo": {
     "elapsed": 24,
     "status": "ok",
     "timestamp": 1702586006613,
     "user": {
      "displayName": "Дмитрий Смирнов",
      "userId": "16561936699784084229"
     },
     "user_tz": -180
    },
    "id": "aLzNz_ihHRlY"
   },
   "outputs": [],
   "source": [
    "date = dt.datetime(int(NRLMSIS_day[0][0]), int(NRLMSIS_day[0][1]), int(NRLMSIS_day[0][2]), int(NRLMSIS_day[0][4]))\n",
    "\n",
    "e_charge = 4.8e-10\n",
    "mass_e = 9.1094e-28\n",
    "omega = 2 * pi * (8 * 1e6)"
   ]
  },
  {
   "cell_type": "markdown",
   "metadata": {
    "id": "JYp0uOsrHRlY"
   },
   "source": [
    "Блок с формулами для расчетов"
   ]
  },
  {
   "cell_type": "code",
   "execution_count": 8,
   "metadata": {
    "executionInfo": {
     "elapsed": 23,
     "status": "ok",
     "timestamp": 1702586006614,
     "user": {
      "displayName": "Дмитрий Смирнов",
      "userId": "16561936699784084229"
     },
     "user_tz": -180
    },
    "id": "-Ok6VI87HRlY"
   },
   "outputs": [],
   "source": [
    "omega_plasm = np.sqrt((4 * pi * (e_charge ** 2) * N_e / mass_e))\n",
    "n = sqrt(1 - ((omega_plasm ** 2)/(omega ** 2)))"
   ]
  },
  {
   "cell_type": "code",
   "execution_count": 9,
   "metadata": {
    "executionInfo": {
     "elapsed": 23,
     "status": "ok",
     "timestamp": 1702586006614,
     "user": {
      "displayName": "Дмитрий Смирнов",
      "userId": "16561936699784084229"
     },
     "user_tz": -180
    },
    "id": "0V0Gz1GzSmwl"
   },
   "outputs": [],
   "source": [
    "interpol_n = interp1d(z, n, kind = 'cubic')"
   ]
  },
  {
   "cell_type": "code",
   "execution_count": 10,
   "metadata": {
    "colab": {
     "base_uri": "https://localhost:8080/",
     "height": 481
    },
    "executionInfo": {
     "elapsed": 23,
     "status": "ok",
     "timestamp": 1702586006615,
     "user": {
      "displayName": "Дмитрий Смирнов",
      "userId": "16561936699784084229"
     },
     "user_tz": -180
    },
    "id": "SiiIRaJSUxMz",
    "outputId": "aa5a2405-4933-47bc-b8bc-78fa16e069f3"
   },
   "outputs": [
    {
     "data": {
      "text/plain": [
       "[<matplotlib.lines.Line2D at 0x7f51020d3d10>]"
      ]
     },
     "execution_count": 10,
     "metadata": {},
     "output_type": "execute_result"
    },
    {
     "data": {
      "image/png": "[encoded data removed]",
      "text/plain": [
       "<Figure size 640x480 with 1 Axes>"
      ]
     },
     "metadata": {},
     "output_type": "display_data"
    }
   ],
   "source": [
    "plt.plot(z, n)"
   ]
  },
  {
   "cell_type": "markdown",
   "metadata": {
    "colab": {
     "base_uri": "https://localhost:8080/",
     "height": 671
    },
    "executionInfo": {
     "elapsed": 1081,
     "status": "ok",
     "timestamp": 1702586007679,
     "user": {
      "displayName": "Дмитрий Смирнов",
      "userId": "16561936699784084229"
     },
     "user_tz": -180
    },
    "id": "46-OAbhSwkg2",
    "outputId": "d6f9275b-d73c-4869-b735-817b36469100"
   },
   "source": [
    "# Интегрируем епта"
   ]
  },
  {
   "cell_type": "code",
   "execution_count": 15,
   "metadata": {
    "colab": {
     "base_uri": "https://localhost:8080/",
     "height": 406
    },
    "executionInfo": {
     "elapsed": 369,
     "status": "error",
     "timestamp": 1702586182196,
     "user": {
      "displayName": "Дмитрий Смирнов",
      "userId": "16561936699784084229"
     },
     "user_tz": -180
    },
    "id": "kO5CrIQO00mH",
    "outputId": "04b72274-674b-4f0d-f2db-cd9468621584"
   },
   "outputs": [],
   "source": [
    "from scipy.integrate import solve_ivp\n",
    "\n",
    "def dp_zdt(z, n):\n",
    "    try:\n",
    "        d = 0.5 * derivative(lambda z: n(z)**2, z, dx=1, n=1, order=5)\n",
    "    except:\n",
    "        d = 0\n",
    "    return d\n",
    "\n",
    "def ode(t, p, n, p_x, p_y): \n",
    "    x,y,z,p_z = p\n",
    "    return [p_x, p_y, p_z, dp_zdt(z, n)]\n",
    "\n",
    "def solve(n, z0, teta_0, phi_0, t):\n",
    "    if 0:\n",
    "        p_x0 = n(z0)*np.sin(teta_0) * np.cos(phi_0)\n",
    "        p_y0 = n(z0)*np.sin(teta_0) * np.sin(phi_0)\n",
    "        p_z0 = n(z0)*np.cos(teta_0)\n",
    "    else:\n",
    "        p_x0 = np.sin(teta_0) * np.cos(phi_0)\n",
    "        p_y0 = np.sin(teta_0) * np.sin(phi_0)\n",
    "        p_z0 = np.cos(teta_0)\n",
    "    \n",
    "    #print(p_x0, p_y0, p_z0)\n",
    "    p0 = [0, 0, z0, p_z0]\n",
    "    sol = solve_ivp(ode, [t[0], t[-1]], p0, args=(n, p_x0, p_y0),\n",
    "                    dense_output=True)\n",
    "\n",
    "    return sol.sol(t)"
   ]
  },
  {
   "cell_type": "code",
   "execution_count": 16,
   "metadata": {},
   "outputs": [
    {
     "name": "stderr",
     "output_type": "stream",
     "text": [
      "/tmp/ipykernel_199048/3388309217.py:5: DeprecationWarning: scipy.misc.derivative is deprecated in SciPy v1.10.0; and will be completely removed in SciPy v1.12.0. You may consider using findiff: https://github.com/maroba/findiff or numdifftools: https://github.com/pbrod/numdifftools\n",
      "  d = 0.5 * derivative(lambda z: n(z)**2, z, dx=1, n=1, order=5)\n"
     ]
    },
    {
     "data": {
      "image/png": "[encoded data removed]",
      "text/plain": [
       "<Figure size 640x480 with 1 Axes>"
      ]
     },
     "metadata": {},
     "output_type": "display_data"
    }
   ],
   "source": [
    "for theta in np.linspace(np.pi/4,np.pi/2, 8):\n",
    "    t = np.linspace(0,1000e3, 4096) # лол соответствует длинне с точнгостьб до сотки, ведь n~1\n",
    "    x,y,z,p_z = solve(interpol_n, 0, theta, 0 ,t)\n",
    "    plt.plot(x/1e3,z/1e3)\n",
    "    plt.ylim(0)\n",
    "    #plt.xlim(0,x[z.argmax()]*2/1000)"
   ]
  },
  {
   "cell_type": "code",
   "execution_count": null,
   "metadata": {},
   "outputs": [],
   "source": []
  }
 ],
 "metadata": {
  "colab": {
   "provenance": []
  },
  "kernelspec": {
   "display_name": "Python 3 (ipykernel)",
   "language": "python",
   "name": "python3"
  },
  "language_info": {
   "codemirror_mode": {
    "name": "ipython",
    "version": 3
   },
   "file_extension": ".py",
   "mimetype": "text/x-python",
   "name": "python",
   "nbconvert_exporter": "python",
   "pygments_lexer": "ipython3",
   "version": "3.11.6"
  }
 },
 "nbformat": 4,
 "nbformat_minor": 4
}
