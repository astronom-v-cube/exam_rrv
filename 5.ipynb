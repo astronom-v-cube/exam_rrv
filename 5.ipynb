{
 "cells": [
  {
   "cell_type": "code",
   "execution_count": 15,
   "metadata": {},
   "outputs": [],
   "source": [
    "import numpy as np\n",
    "import datetime as dt"
   ]
  },
  {
   "cell_type": "code",
   "execution_count": 24,
   "metadata": {},
   "outputs": [
    {
     "name": "stdout",
     "output_type": "stream",
     "text": [
      "[2.023e+03 1.200e+01 1.000e+00 3.350e+02 1.200e+01 8.000e+00 5.600e+01\n",
      " 4.400e+01 9.999e-38 8.478e+18 2.273e+18 5.219e-04 2.256e+02 1.120e+03\n",
      " 5.646e+13 1.013e+17 9.999e-38 9.999e-38 1.666e+02 1.666e+02 4.920e+01\n",
      " 6.700e+01 1.110e+02 2.700e+01 2.200e+01 7.500e+00 4.400e+00]\n"
     ]
    }
   ],
   "source": [
    "data = np.loadtxt('data.txt', skiprows=2)\n",
    "# date = dt.datetime(data[0], data[1], data[2], data[4].strip('.')[0], minute)\n",
    "print(data[4])\n",
    "\n"
   ]
  }
 ],
 "metadata": {
  "kernelspec": {
   "display_name": "Python 3",
   "language": "python",
   "name": "python3"
  },
  "language_info": {
   "codemirror_mode": {
    "name": "ipython",
    "version": 3
   },
   "file_extension": ".py",
   "mimetype": "text/x-python",
   "name": "python",
   "nbconvert_exporter": "python",
   "pygments_lexer": "ipython3",
   "version": "3.11.5"
  }
 },
 "nbformat": 4,
 "nbformat_minor": 2
}
